{
 "cells": [
  {
   "cell_type": "markdown",
   "metadata": {},
   "source": [
    "1. Top-10 Reviewer"
   ]
  },
  {
   "cell_type": "code",
   "execution_count": 252,
   "metadata": {},
   "outputs": [],
   "source": [
    "import pandas as pd\n",
    "import numpy as np\n",
    "import matplotlib.pyplot as plt\n",
    "import seaborn as sns\n",
    "pd_data=pd.read_csv('Reviews.csv')\n",
    "#載入資料\n",
    "pd_data=pd_data[1:10000]\n",
    "#只取前10000筆"
   ]
  },
  {
   "cell_type": "code",
   "execution_count": 253,
   "metadata": {
    "scrolled": true
   },
   "outputs": [
    {
     "data": {
      "text/html": [
       "<div>\n",
       "<style scoped>\n",
       "    .dataframe tbody tr th:only-of-type {\n",
       "        vertical-align: middle;\n",
       "    }\n",
       "\n",
       "    .dataframe tbody tr th {\n",
       "        vertical-align: top;\n",
       "    }\n",
       "\n",
       "    .dataframe thead th {\n",
       "        text-align: right;\n",
       "    }\n",
       "</style>\n",
       "<table border=\"1\" class=\"dataframe\">\n",
       "  <thead>\n",
       "    <tr style=\"text-align: right;\">\n",
       "      <th></th>\n",
       "      <th>Id</th>\n",
       "      <th>ProductId</th>\n",
       "      <th>UserId</th>\n",
       "      <th>ProfileName</th>\n",
       "      <th>HelpfulnessNumerator</th>\n",
       "      <th>HelpfulnessDenominator</th>\n",
       "      <th>Score</th>\n",
       "      <th>Time</th>\n",
       "      <th>Summary</th>\n",
       "      <th>Text</th>\n",
       "    </tr>\n",
       "  </thead>\n",
       "  <tbody>\n",
       "    <tr>\n",
       "      <th>1</th>\n",
       "      <td>2</td>\n",
       "      <td>B00813GRG4</td>\n",
       "      <td>A1D87F6ZCVE5NK</td>\n",
       "      <td>dll pa</td>\n",
       "      <td>0</td>\n",
       "      <td>0</td>\n",
       "      <td>1</td>\n",
       "      <td>1346976000</td>\n",
       "      <td>Not as Advertised</td>\n",
       "      <td>Product arrived labeled as Jumbo Salted Peanut...</td>\n",
       "    </tr>\n",
       "    <tr>\n",
       "      <th>2</th>\n",
       "      <td>3</td>\n",
       "      <td>B000LQOCH0</td>\n",
       "      <td>ABXLMWJIXXAIN</td>\n",
       "      <td>Natalia Corres \"Natalia Corres\"</td>\n",
       "      <td>1</td>\n",
       "      <td>1</td>\n",
       "      <td>4</td>\n",
       "      <td>1219017600</td>\n",
       "      <td>\"Delight\" says it all</td>\n",
       "      <td>This is a confection that has been around a fe...</td>\n",
       "    </tr>\n",
       "    <tr>\n",
       "      <th>3</th>\n",
       "      <td>4</td>\n",
       "      <td>B000UA0QIQ</td>\n",
       "      <td>A395BORC6FGVXV</td>\n",
       "      <td>Karl</td>\n",
       "      <td>3</td>\n",
       "      <td>3</td>\n",
       "      <td>2</td>\n",
       "      <td>1307923200</td>\n",
       "      <td>Cough Medicine</td>\n",
       "      <td>If you are looking for the secret ingredient i...</td>\n",
       "    </tr>\n",
       "    <tr>\n",
       "      <th>4</th>\n",
       "      <td>5</td>\n",
       "      <td>B006K2ZZ7K</td>\n",
       "      <td>A1UQRSCLF8GW1T</td>\n",
       "      <td>Michael D. Bigham \"M. Wassir\"</td>\n",
       "      <td>0</td>\n",
       "      <td>0</td>\n",
       "      <td>5</td>\n",
       "      <td>1350777600</td>\n",
       "      <td>Great taffy</td>\n",
       "      <td>Great taffy at a great price.  There was a wid...</td>\n",
       "    </tr>\n",
       "    <tr>\n",
       "      <th>5</th>\n",
       "      <td>6</td>\n",
       "      <td>B006K2ZZ7K</td>\n",
       "      <td>ADT0SRK1MGOEU</td>\n",
       "      <td>Twoapennything</td>\n",
       "      <td>0</td>\n",
       "      <td>0</td>\n",
       "      <td>4</td>\n",
       "      <td>1342051200</td>\n",
       "      <td>Nice Taffy</td>\n",
       "      <td>I got a wild hair for taffy and ordered this f...</td>\n",
       "    </tr>\n",
       "  </tbody>\n",
       "</table>\n",
       "</div>"
      ],
      "text/plain": [
       "   Id   ProductId          UserId                      ProfileName  \\\n",
       "1   2  B00813GRG4  A1D87F6ZCVE5NK                           dll pa   \n",
       "2   3  B000LQOCH0   ABXLMWJIXXAIN  Natalia Corres \"Natalia Corres\"   \n",
       "3   4  B000UA0QIQ  A395BORC6FGVXV                             Karl   \n",
       "4   5  B006K2ZZ7K  A1UQRSCLF8GW1T    Michael D. Bigham \"M. Wassir\"   \n",
       "5   6  B006K2ZZ7K   ADT0SRK1MGOEU                   Twoapennything   \n",
       "\n",
       "   HelpfulnessNumerator  HelpfulnessDenominator  Score        Time  \\\n",
       "1                     0                       0      1  1346976000   \n",
       "2                     1                       1      4  1219017600   \n",
       "3                     3                       3      2  1307923200   \n",
       "4                     0                       0      5  1350777600   \n",
       "5                     0                       0      4  1342051200   \n",
       "\n",
       "                 Summary                                               Text  \n",
       "1      Not as Advertised  Product arrived labeled as Jumbo Salted Peanut...  \n",
       "2  \"Delight\" says it all  This is a confection that has been around a fe...  \n",
       "3         Cough Medicine  If you are looking for the secret ingredient i...  \n",
       "4            Great taffy  Great taffy at a great price.  There was a wid...  \n",
       "5             Nice Taffy  I got a wild hair for taffy and ordered this f...  "
      ]
     },
     "execution_count": 253,
     "metadata": {},
     "output_type": "execute_result"
    }
   ],
   "source": [
    "pd_data.head()"
   ]
  },
  {
   "cell_type": "code",
   "execution_count": 254,
   "metadata": {},
   "outputs": [
    {
     "data": {
      "text/plain": [
       "A1Z54EM24Y40LL    17\n",
       "A2SZLNSI5KOQJT    10\n",
       "A35R32TA60XD57     9\n",
       "A281NPSIMI1C2R     8\n",
       "A3OXHLG6DIBRW8     7\n",
       "A3NHUQ33CFH3VM     7\n",
       "A3PJZ8TU8FDQ1K     7\n",
       "A2R6RA8FRBS608     6\n",
       "A10H24TDLK2VDP     6\n",
       "A3TX6CWSZL02PW     6\n",
       "Name: UserId, dtype: int64"
      ]
     },
     "execution_count": 254,
     "metadata": {},
     "output_type": "execute_result"
    }
   ],
   "source": [
    "visits=pd.value_counts(pd_data.UserId)\n",
    "visits=visits[:10]\n",
    "visits\n",
    "#找出最常出現的UserId與出現次數"
   ]
  },
  {
   "cell_type": "code",
   "execution_count": 255,
   "metadata": {},
   "outputs": [],
   "source": [
    "A=[]\n",
    "B=[]\n",
    "C=[]\n",
    "D=[]\n",
    "for i in range(len(visits)):\n",
    "    A.append(visits.index[i])\n",
    "    B.append(pd_data[pd_data['UserId'] == visits.index[i] ].iloc[0,3])\n",
    "    C.append(visits[i])\n",
    "    D.append(pd_data[pd_data['UserId'] == visits.index[i] ].mean()[3])\n",
    "    \n",
    "#取TOP 10的 UserId 與 ProfileName，求 Scorecount 和 Score mean\n",
    "#A為UserId的資料\n",
    "#B為ProfileName的資料\n",
    "#C為Scorecount的資料\n",
    "#D為Score mean的資料"
   ]
  },
  {
   "cell_type": "code",
   "execution_count": 256,
   "metadata": {},
   "outputs": [
    {
     "name": "stdout",
     "output_type": "stream",
     "text": [
      "['A1Z54EM24Y40LL', 'A2SZLNSI5KOQJT', 'A35R32TA60XD57', 'A281NPSIMI1C2R', 'A3OXHLG6DIBRW8', 'A3NHUQ33CFH3VM', 'A3PJZ8TU8FDQ1K', 'A2R6RA8FRBS608', 'A10H24TDLK2VDP', 'A3TX6CWSZL02PW']\n",
      "['c2', 'Carrie, \"Formerly &#34;Sister Carrie&#34;\"', 'M. Torma', 'Rebecca of Amazon \"The Rebecca Review\"', 'C. F. Hill \"CFH\"', 'Citizen John', 'Jared Castle', 'Matthew G. Sherwin', 'William Jens Jensen', 'LaVerne \":LaVerne\"']\n",
      "[17, 10, 9, 8, 7, 7, 7, 6, 6, 6]\n",
      "[3.8823529411764706, 3.8, 4.111111111111111, 5.0, 4.428571428571429, 3.142857142857143, 4.714285714285714, 5.0, 3.0, 5.0]\n"
     ]
    }
   ],
   "source": [
    "print(A)\n",
    "print(B)\n",
    "print(C)\n",
    "print(D)"
   ]
  },
  {
   "cell_type": "code",
   "execution_count": 257,
   "metadata": {},
   "outputs": [],
   "source": [
    "content={'UserId':A,\n",
    "         'ProfileName':B,\n",
    "         'Scorecount':C,\n",
    "         'Score mean':D,} \n",
    "new_sheet=pd.DataFrame(content)\n",
    "#寫到表格中"
   ]
  },
  {
   "cell_type": "code",
   "execution_count": 258,
   "metadata": {},
   "outputs": [
    {
     "data": {
      "text/html": [
       "<div>\n",
       "<style scoped>\n",
       "    .dataframe tbody tr th:only-of-type {\n",
       "        vertical-align: middle;\n",
       "    }\n",
       "\n",
       "    .dataframe tbody tr th {\n",
       "        vertical-align: top;\n",
       "    }\n",
       "\n",
       "    .dataframe thead th {\n",
       "        text-align: right;\n",
       "    }\n",
       "</style>\n",
       "<table border=\"1\" class=\"dataframe\">\n",
       "  <thead>\n",
       "    <tr style=\"text-align: right;\">\n",
       "      <th></th>\n",
       "      <th>UserId</th>\n",
       "      <th>ProfileName</th>\n",
       "      <th>Scorecount</th>\n",
       "      <th>Score mean</th>\n",
       "    </tr>\n",
       "  </thead>\n",
       "  <tbody>\n",
       "    <tr>\n",
       "      <th>0</th>\n",
       "      <td>A1Z54EM24Y40LL</td>\n",
       "      <td>c2</td>\n",
       "      <td>17</td>\n",
       "      <td>3.882353</td>\n",
       "    </tr>\n",
       "    <tr>\n",
       "      <th>1</th>\n",
       "      <td>A2SZLNSI5KOQJT</td>\n",
       "      <td>Carrie, \"Formerly &amp;#34;Sister Carrie&amp;#34;\"</td>\n",
       "      <td>10</td>\n",
       "      <td>3.800000</td>\n",
       "    </tr>\n",
       "    <tr>\n",
       "      <th>2</th>\n",
       "      <td>A35R32TA60XD57</td>\n",
       "      <td>M. Torma</td>\n",
       "      <td>9</td>\n",
       "      <td>4.111111</td>\n",
       "    </tr>\n",
       "    <tr>\n",
       "      <th>3</th>\n",
       "      <td>A281NPSIMI1C2R</td>\n",
       "      <td>Rebecca of Amazon \"The Rebecca Review\"</td>\n",
       "      <td>8</td>\n",
       "      <td>5.000000</td>\n",
       "    </tr>\n",
       "    <tr>\n",
       "      <th>4</th>\n",
       "      <td>A3OXHLG6DIBRW8</td>\n",
       "      <td>C. F. Hill \"CFH\"</td>\n",
       "      <td>7</td>\n",
       "      <td>4.428571</td>\n",
       "    </tr>\n",
       "    <tr>\n",
       "      <th>5</th>\n",
       "      <td>A3NHUQ33CFH3VM</td>\n",
       "      <td>Citizen John</td>\n",
       "      <td>7</td>\n",
       "      <td>3.142857</td>\n",
       "    </tr>\n",
       "    <tr>\n",
       "      <th>6</th>\n",
       "      <td>A3PJZ8TU8FDQ1K</td>\n",
       "      <td>Jared Castle</td>\n",
       "      <td>7</td>\n",
       "      <td>4.714286</td>\n",
       "    </tr>\n",
       "    <tr>\n",
       "      <th>7</th>\n",
       "      <td>A2R6RA8FRBS608</td>\n",
       "      <td>Matthew G. Sherwin</td>\n",
       "      <td>6</td>\n",
       "      <td>5.000000</td>\n",
       "    </tr>\n",
       "    <tr>\n",
       "      <th>8</th>\n",
       "      <td>A10H24TDLK2VDP</td>\n",
       "      <td>William Jens Jensen</td>\n",
       "      <td>6</td>\n",
       "      <td>3.000000</td>\n",
       "    </tr>\n",
       "    <tr>\n",
       "      <th>9</th>\n",
       "      <td>A3TX6CWSZL02PW</td>\n",
       "      <td>LaVerne \":LaVerne\"</td>\n",
       "      <td>6</td>\n",
       "      <td>5.000000</td>\n",
       "    </tr>\n",
       "  </tbody>\n",
       "</table>\n",
       "</div>"
      ],
      "text/plain": [
       "           UserId                                 ProfileName  Scorecount  \\\n",
       "0  A1Z54EM24Y40LL                                          c2          17   \n",
       "1  A2SZLNSI5KOQJT  Carrie, \"Formerly &#34;Sister Carrie&#34;\"          10   \n",
       "2  A35R32TA60XD57                                    M. Torma           9   \n",
       "3  A281NPSIMI1C2R      Rebecca of Amazon \"The Rebecca Review\"           8   \n",
       "4  A3OXHLG6DIBRW8                            C. F. Hill \"CFH\"           7   \n",
       "5  A3NHUQ33CFH3VM                                Citizen John           7   \n",
       "6  A3PJZ8TU8FDQ1K                                Jared Castle           7   \n",
       "7  A2R6RA8FRBS608                          Matthew G. Sherwin           6   \n",
       "8  A10H24TDLK2VDP                         William Jens Jensen           6   \n",
       "9  A3TX6CWSZL02PW                          LaVerne \":LaVerne\"           6   \n",
       "\n",
       "   Score mean  \n",
       "0    3.882353  \n",
       "1    3.800000  \n",
       "2    4.111111  \n",
       "3    5.000000  \n",
       "4    4.428571  \n",
       "5    3.142857  \n",
       "6    4.714286  \n",
       "7    5.000000  \n",
       "8    3.000000  \n",
       "9    5.000000  "
      ]
     },
     "execution_count": 258,
     "metadata": {},
     "output_type": "execute_result"
    }
   ],
   "source": [
    "new_sheet"
   ]
  },
  {
   "cell_type": "markdown",
   "metadata": {},
   "source": [
    "2. Plot score distribution for the user with the most number of reviews"
   ]
  },
  {
   "cell_type": "code",
   "execution_count": 259,
   "metadata": {},
   "outputs": [
    {
     "data": {
      "text/html": [
       "<div>\n",
       "<style scoped>\n",
       "    .dataframe tbody tr th:only-of-type {\n",
       "        vertical-align: middle;\n",
       "    }\n",
       "\n",
       "    .dataframe tbody tr th {\n",
       "        vertical-align: top;\n",
       "    }\n",
       "\n",
       "    .dataframe thead th {\n",
       "        text-align: right;\n",
       "    }\n",
       "</style>\n",
       "<table border=\"1\" class=\"dataframe\">\n",
       "  <thead>\n",
       "    <tr style=\"text-align: right;\">\n",
       "      <th></th>\n",
       "      <th>Id</th>\n",
       "      <th>ProductId</th>\n",
       "      <th>UserId</th>\n",
       "      <th>ProfileName</th>\n",
       "      <th>HelpfulnessNumerator</th>\n",
       "      <th>HelpfulnessDenominator</th>\n",
       "      <th>Score</th>\n",
       "      <th>Time</th>\n",
       "      <th>Summary</th>\n",
       "      <th>Text</th>\n",
       "    </tr>\n",
       "  </thead>\n",
       "  <tbody>\n",
       "    <tr>\n",
       "      <th>143</th>\n",
       "      <td>144</td>\n",
       "      <td>B001GVISJW</td>\n",
       "      <td>A1Z54EM24Y40LL</td>\n",
       "      <td>c2</td>\n",
       "      <td>0</td>\n",
       "      <td>0</td>\n",
       "      <td>5</td>\n",
       "      <td>1269129600</td>\n",
       "      <td>Great for the kids!</td>\n",
       "      <td>If you are looking for a less messy version of...</td>\n",
       "    </tr>\n",
       "    <tr>\n",
       "      <th>3587</th>\n",
       "      <td>3588</td>\n",
       "      <td>B004X8TK9W</td>\n",
       "      <td>A1Z54EM24Y40LL</td>\n",
       "      <td>c2</td>\n",
       "      <td>1</td>\n",
       "      <td>1</td>\n",
       "      <td>5</td>\n",
       "      <td>1338249600</td>\n",
       "      <td>AWESOME!</td>\n",
       "      <td>I may be dating myself here a bit but I rememb...</td>\n",
       "    </tr>\n",
       "    <tr>\n",
       "      <th>4993</th>\n",
       "      <td>4994</td>\n",
       "      <td>B000FA398U</td>\n",
       "      <td>A1Z54EM24Y40LL</td>\n",
       "      <td>c2</td>\n",
       "      <td>3</td>\n",
       "      <td>3</td>\n",
       "      <td>5</td>\n",
       "      <td>1203206400</td>\n",
       "      <td>Best for oyster soup!</td>\n",
       "      <td>Try these first for all your seafood soups and...</td>\n",
       "    </tr>\n",
       "    <tr>\n",
       "      <th>6371</th>\n",
       "      <td>6372</td>\n",
       "      <td>B000084EKO</td>\n",
       "      <td>A1Z54EM24Y40LL</td>\n",
       "      <td>c2</td>\n",
       "      <td>0</td>\n",
       "      <td>0</td>\n",
       "      <td>3</td>\n",
       "      <td>1090800000</td>\n",
       "      <td>Not any different than regular Friskies</td>\n",
       "      <td>I honestly cannot say that I saw any differenc...</td>\n",
       "    </tr>\n",
       "    <tr>\n",
       "      <th>6372</th>\n",
       "      <td>6373</td>\n",
       "      <td>B000084EKA</td>\n",
       "      <td>A1Z54EM24Y40LL</td>\n",
       "      <td>c2</td>\n",
       "      <td>0</td>\n",
       "      <td>0</td>\n",
       "      <td>4</td>\n",
       "      <td>1090972800</td>\n",
       "      <td>Not their best...</td>\n",
       "      <td>I think 9 Lives does a better job on this vari...</td>\n",
       "    </tr>\n",
       "    <tr>\n",
       "      <th>6373</th>\n",
       "      <td>6374</td>\n",
       "      <td>B000084EKB</td>\n",
       "      <td>A1Z54EM24Y40LL</td>\n",
       "      <td>c2</td>\n",
       "      <td>0</td>\n",
       "      <td>0</td>\n",
       "      <td>4</td>\n",
       "      <td>1091059200</td>\n",
       "      <td>Great food!</td>\n",
       "      <td>This version is ground.  NOt my current cat's ...</td>\n",
       "    </tr>\n",
       "    <tr>\n",
       "      <th>6374</th>\n",
       "      <td>6375</td>\n",
       "      <td>B000084EKC</td>\n",
       "      <td>A1Z54EM24Y40LL</td>\n",
       "      <td>c2</td>\n",
       "      <td>1</td>\n",
       "      <td>1</td>\n",
       "      <td>5</td>\n",
       "      <td>1090972800</td>\n",
       "      <td>Great food for all cats!</td>\n",
       "      <td>According to my cat, this stuff is just great....</td>\n",
       "    </tr>\n",
       "    <tr>\n",
       "      <th>6375</th>\n",
       "      <td>6376</td>\n",
       "      <td>B000084EKD</td>\n",
       "      <td>A1Z54EM24Y40LL</td>\n",
       "      <td>c2</td>\n",
       "      <td>1</td>\n",
       "      <td>1</td>\n",
       "      <td>2</td>\n",
       "      <td>1090972800</td>\n",
       "      <td>Needs improved</td>\n",
       "      <td>I haven't had a cat yet that liked this one.  ...</td>\n",
       "    </tr>\n",
       "    <tr>\n",
       "      <th>6380</th>\n",
       "      <td>6381</td>\n",
       "      <td>B000084EKG</td>\n",
       "      <td>A1Z54EM24Y40LL</td>\n",
       "      <td>c2</td>\n",
       "      <td>2</td>\n",
       "      <td>2</td>\n",
       "      <td>5</td>\n",
       "      <td>1090972800</td>\n",
       "      <td>Awesome food!</td>\n",
       "      <td>This is my cat's favorite one.  He just licks ...</td>\n",
       "    </tr>\n",
       "    <tr>\n",
       "      <th>6382</th>\n",
       "      <td>6383</td>\n",
       "      <td>B000084EK8</td>\n",
       "      <td>A1Z54EM24Y40LL</td>\n",
       "      <td>c2</td>\n",
       "      <td>2</td>\n",
       "      <td>2</td>\n",
       "      <td>3</td>\n",
       "      <td>1090972800</td>\n",
       "      <td>Not the favorite in our house</td>\n",
       "      <td>Once or twice a year for a little variety and ...</td>\n",
       "    </tr>\n",
       "    <tr>\n",
       "      <th>6385</th>\n",
       "      <td>6386</td>\n",
       "      <td>B000084EK9</td>\n",
       "      <td>A1Z54EM24Y40LL</td>\n",
       "      <td>c2</td>\n",
       "      <td>0</td>\n",
       "      <td>0</td>\n",
       "      <td>1</td>\n",
       "      <td>1090972800</td>\n",
       "      <td>This stuff is bad!</td>\n",
       "      <td>I honestly have to say that I just won't buy t...</td>\n",
       "    </tr>\n",
       "    <tr>\n",
       "      <th>6393</th>\n",
       "      <td>6394</td>\n",
       "      <td>B000084EK4</td>\n",
       "      <td>A1Z54EM24Y40LL</td>\n",
       "      <td>c2</td>\n",
       "      <td>0</td>\n",
       "      <td>0</td>\n",
       "      <td>3</td>\n",
       "      <td>1090972800</td>\n",
       "      <td>Great beef look</td>\n",
       "      <td>This food variety is ground, thus my cat doesn...</td>\n",
       "    </tr>\n",
       "    <tr>\n",
       "      <th>6394</th>\n",
       "      <td>6395</td>\n",
       "      <td>B000084EK5</td>\n",
       "      <td>A1Z54EM24Y40LL</td>\n",
       "      <td>c2</td>\n",
       "      <td>1</td>\n",
       "      <td>1</td>\n",
       "      <td>5</td>\n",
       "      <td>1090972800</td>\n",
       "      <td>Family favorite - looks like steak!</td>\n",
       "      <td>This is my cat's third favorite food.  It's gr...</td>\n",
       "    </tr>\n",
       "    <tr>\n",
       "      <th>6395</th>\n",
       "      <td>6396</td>\n",
       "      <td>B000084EK6</td>\n",
       "      <td>A1Z54EM24Y40LL</td>\n",
       "      <td>c2</td>\n",
       "      <td>0</td>\n",
       "      <td>0</td>\n",
       "      <td>5</td>\n",
       "      <td>1091059200</td>\n",
       "      <td>Great food!</td>\n",
       "      <td>This is another favorite in our house.  My cat...</td>\n",
       "    </tr>\n",
       "    <tr>\n",
       "      <th>6396</th>\n",
       "      <td>6397</td>\n",
       "      <td>B000084EK7</td>\n",
       "      <td>A1Z54EM24Y40LL</td>\n",
       "      <td>c2</td>\n",
       "      <td>0</td>\n",
       "      <td>0</td>\n",
       "      <td>4</td>\n",
       "      <td>1090972800</td>\n",
       "      <td>What's in this?</td>\n",
       "      <td>This one is a great basic food. Whatever is in...</td>\n",
       "    </tr>\n",
       "    <tr>\n",
       "      <th>8028</th>\n",
       "      <td>8029</td>\n",
       "      <td>B0012KH06Y</td>\n",
       "      <td>A1Z54EM24Y40LL</td>\n",
       "      <td>c2</td>\n",
       "      <td>2</td>\n",
       "      <td>2</td>\n",
       "      <td>3</td>\n",
       "      <td>1249516800</td>\n",
       "      <td>Great nutrition...</td>\n",
       "      <td>These guys are quite high on the nutritional s...</td>\n",
       "    </tr>\n",
       "    <tr>\n",
       "      <th>8222</th>\n",
       "      <td>8223</td>\n",
       "      <td>B000BXUVYG</td>\n",
       "      <td>A1Z54EM24Y40LL</td>\n",
       "      <td>c2</td>\n",
       "      <td>1</td>\n",
       "      <td>1</td>\n",
       "      <td>4</td>\n",
       "      <td>1222300800</td>\n",
       "      <td>Nice treat, make sure they CHEW them!</td>\n",
       "      <td>As with most cats I've read about here, both o...</td>\n",
       "    </tr>\n",
       "  </tbody>\n",
       "</table>\n",
       "</div>"
      ],
      "text/plain": [
       "        Id   ProductId          UserId ProfileName  HelpfulnessNumerator  \\\n",
       "143    144  B001GVISJW  A1Z54EM24Y40LL          c2                     0   \n",
       "3587  3588  B004X8TK9W  A1Z54EM24Y40LL          c2                     1   \n",
       "4993  4994  B000FA398U  A1Z54EM24Y40LL          c2                     3   \n",
       "6371  6372  B000084EKO  A1Z54EM24Y40LL          c2                     0   \n",
       "6372  6373  B000084EKA  A1Z54EM24Y40LL          c2                     0   \n",
       "6373  6374  B000084EKB  A1Z54EM24Y40LL          c2                     0   \n",
       "6374  6375  B000084EKC  A1Z54EM24Y40LL          c2                     1   \n",
       "6375  6376  B000084EKD  A1Z54EM24Y40LL          c2                     1   \n",
       "6380  6381  B000084EKG  A1Z54EM24Y40LL          c2                     2   \n",
       "6382  6383  B000084EK8  A1Z54EM24Y40LL          c2                     2   \n",
       "6385  6386  B000084EK9  A1Z54EM24Y40LL          c2                     0   \n",
       "6393  6394  B000084EK4  A1Z54EM24Y40LL          c2                     0   \n",
       "6394  6395  B000084EK5  A1Z54EM24Y40LL          c2                     1   \n",
       "6395  6396  B000084EK6  A1Z54EM24Y40LL          c2                     0   \n",
       "6396  6397  B000084EK7  A1Z54EM24Y40LL          c2                     0   \n",
       "8028  8029  B0012KH06Y  A1Z54EM24Y40LL          c2                     2   \n",
       "8222  8223  B000BXUVYG  A1Z54EM24Y40LL          c2                     1   \n",
       "\n",
       "      HelpfulnessDenominator  Score        Time  \\\n",
       "143                        0      5  1269129600   \n",
       "3587                       1      5  1338249600   \n",
       "4993                       3      5  1203206400   \n",
       "6371                       0      3  1090800000   \n",
       "6372                       0      4  1090972800   \n",
       "6373                       0      4  1091059200   \n",
       "6374                       1      5  1090972800   \n",
       "6375                       1      2  1090972800   \n",
       "6380                       2      5  1090972800   \n",
       "6382                       2      3  1090972800   \n",
       "6385                       0      1  1090972800   \n",
       "6393                       0      3  1090972800   \n",
       "6394                       1      5  1090972800   \n",
       "6395                       0      5  1091059200   \n",
       "6396                       0      4  1090972800   \n",
       "8028                       2      3  1249516800   \n",
       "8222                       1      4  1222300800   \n",
       "\n",
       "                                      Summary  \\\n",
       "143                       Great for the kids!   \n",
       "3587                                 AWESOME!   \n",
       "4993                    Best for oyster soup!   \n",
       "6371  Not any different than regular Friskies   \n",
       "6372                        Not their best...   \n",
       "6373                              Great food!   \n",
       "6374                 Great food for all cats!   \n",
       "6375                           Needs improved   \n",
       "6380                            Awesome food!   \n",
       "6382            Not the favorite in our house   \n",
       "6385                       This stuff is bad!   \n",
       "6393                          Great beef look   \n",
       "6394      Family favorite - looks like steak!   \n",
       "6395                              Great food!   \n",
       "6396                          What's in this?   \n",
       "8028                       Great nutrition...   \n",
       "8222    Nice treat, make sure they CHEW them!   \n",
       "\n",
       "                                                   Text  \n",
       "143   If you are looking for a less messy version of...  \n",
       "3587  I may be dating myself here a bit but I rememb...  \n",
       "4993  Try these first for all your seafood soups and...  \n",
       "6371  I honestly cannot say that I saw any differenc...  \n",
       "6372  I think 9 Lives does a better job on this vari...  \n",
       "6373  This version is ground.  NOt my current cat's ...  \n",
       "6374  According to my cat, this stuff is just great....  \n",
       "6375  I haven't had a cat yet that liked this one.  ...  \n",
       "6380  This is my cat's favorite one.  He just licks ...  \n",
       "6382  Once or twice a year for a little variety and ...  \n",
       "6385  I honestly have to say that I just won't buy t...  \n",
       "6393  This food variety is ground, thus my cat doesn...  \n",
       "6394  This is my cat's third favorite food.  It's gr...  \n",
       "6395  This is another favorite in our house.  My cat...  \n",
       "6396  This one is a great basic food. Whatever is in...  \n",
       "8028  These guys are quite high on the nutritional s...  \n",
       "8222  As with most cats I've read about here, both o...  "
      ]
     },
     "execution_count": 259,
     "metadata": {},
     "output_type": "execute_result"
    }
   ],
   "source": [
    "top=pd_data[pd_data['UserId'] == visits.index[0] ]\n",
    "top\n",
    "#求出最常出現的人的各種資料"
   ]
  },
  {
   "cell_type": "code",
   "execution_count": 260,
   "metadata": {},
   "outputs": [
    {
     "data": {
      "text/plain": [
       "Text(0, 0.5, 'Times')"
      ]
     },
     "execution_count": 260,
     "metadata": {},
     "output_type": "execute_result"
    },
    {
     "data": {
      "image/png": "[encoded data removed]",
      "text/plain": [
       "<Figure size 432x288 with 1 Axes>"
      ]
     },
     "metadata": {},
     "output_type": "display_data"
    }
   ],
   "source": [
    "plt.bar(pd.value_counts(top.Score).index, pd.value_counts(top.Score))\n",
    "plt.xlabel('Score')\n",
    "plt.ylabel('Times')\n",
    "#畫出該人的評分與對應的評分次數"
   ]
  },
  {
   "cell_type": "markdown",
   "metadata": {},
   "source": [
    "3. Plot pandas Series DataFrame (Time->Date)"
   ]
  },
  {
   "cell_type": "code",
   "execution_count": 261,
   "metadata": {},
   "outputs": [
    {
     "data": {
      "text/plain": [
       "1       2012\n",
       "2       2008\n",
       "3       2011\n",
       "4       2012\n",
       "5       2012\n",
       "6       2012\n",
       "7       2012\n",
       "8       2011\n",
       "9       2012\n",
       "10      2005\n",
       "11      2010\n",
       "12      2012\n",
       "13      2010\n",
       "14      2010\n",
       "15      2009\n",
       "16      2012\n",
       "17      2012\n",
       "18      2011\n",
       "19      2011\n",
       "20      2011\n",
       "21      2011\n",
       "22      2011\n",
       "23      2011\n",
       "24      2011\n",
       "25      2010\n",
       "26      2012\n",
       "27      2012\n",
       "28      2012\n",
       "29      2005\n",
       "30      2011\n",
       "        ... \n",
       "9970    2010\n",
       "9971    2012\n",
       "9972    2012\n",
       "9973    2012\n",
       "9974    2012\n",
       "9975    2010\n",
       "9976    2011\n",
       "9977    2011\n",
       "9978    2011\n",
       "9979    2011\n",
       "9980    2011\n",
       "9981    2011\n",
       "9982    2011\n",
       "9983    2011\n",
       "9984    2012\n",
       "9985    2008\n",
       "9986    2009\n",
       "9987    2011\n",
       "9988    2011\n",
       "9989    2011\n",
       "9990    2011\n",
       "9991    2011\n",
       "9992    2012\n",
       "9993    2008\n",
       "9994    2009\n",
       "9995    2008\n",
       "9996    2011\n",
       "9997    2012\n",
       "9998    2008\n",
       "9999    2012\n",
       "Name: Time, Length: 9999, dtype: int64"
      ]
     },
     "execution_count": 261,
     "metadata": {},
     "output_type": "execute_result"
    }
   ],
   "source": [
    "years=pd.to_datetime(pd_data.Time, unit='s').dt.year\n",
    "years\n",
    "#把pd_data的每個時間資料只取年份"
   ]
  },
  {
   "cell_type": "code",
   "execution_count": 262,
   "metadata": {},
   "outputs": [
    {
     "data": {
      "text/plain": [
       "Text(0, 0.5, 'Review count')"
      ]
     },
     "execution_count": 262,
     "metadata": {},
     "output_type": "execute_result"
    },
    {
     "data": {
      "image/png": "[encoded data removed]",
      "text/plain": [
       "<Figure size 432x288 with 1 Axes>"
      ]
     },
     "metadata": {},
     "output_type": "display_data"
    }
   ],
   "source": [
    "plt.bar(pd.value_counts(years).index,pd.value_counts(years))\n",
    "#用value_counts統計不同年份的出現次數\n",
    "\n",
    "plt.title('Review Count by Year')\n",
    "plt.xlabel('Review year')\n",
    "plt.ylabel('Review count')\n",
    "#繪圖"
   ]
  },
  {
   "cell_type": "markdown",
   "metadata": {},
   "source": [
    "4. Plot HeatMap using seaborn"
   ]
  },
  {
   "cell_type": "code",
   "execution_count": 263,
   "metadata": {},
   "outputs": [
    {
     "data": {
      "image/png": "[encoded data removed]",
      "text/plain": [
       "<Figure size 432x288 with 2 Axes>"
      ]
     },
     "metadata": {},
     "output_type": "display_data"
    }
   ],
   "source": [
    "sns.set()\n",
    "heat_data=pd_data[['Id','HelpfulnessNumerator','HelpfulnessDenominator','Score','Time']]\n",
    "correlation= heat_data.corr()\n",
    "ax=sns.heatmap(correlation,annot=True,vmax=0.6,vmin=-0.2)"
   ]
  },
  {
   "cell_type": "markdown",
   "metadata": {},
   "source": [
    "5. Helpful percent"
   ]
  },
  {
   "cell_type": "code",
   "execution_count": 264,
   "metadata": {},
   "outputs": [],
   "source": [
    "HN=np.array(pd_data[\"HelpfulnessNumerator\"])"
   ]
  },
  {
   "cell_type": "code",
   "execution_count": 265,
   "metadata": {},
   "outputs": [],
   "source": [
    "HD=np.array(pd_data[\"HelpfulnessDenominator\"])"
   ]
  },
  {
   "cell_type": "code",
   "execution_count": 266,
   "metadata": {},
   "outputs": [
    {
     "name": "stdout",
     "output_type": "stream",
     "text": [
      "[0 1 3 ... 0 1 0]\n"
     ]
    }
   ],
   "source": [
    "print(HN)"
   ]
  },
  {
   "cell_type": "code",
   "execution_count": 267,
   "metadata": {},
   "outputs": [
    {
     "name": "stdout",
     "output_type": "stream",
     "text": [
      "[0 1 3 ... 0 2 1]\n"
     ]
    }
   ],
   "source": [
    "print(HD)"
   ]
  },
  {
   "cell_type": "code",
   "execution_count": 268,
   "metadata": {},
   "outputs": [],
   "source": [
    "div_array=[]\n",
    "# div_array 為 Numerator / Denominator ，且修改0/0 為-1。\n",
    "\n",
    "def div(a,b):\n",
    "    if a ==0 and b==0:\n",
    "        return -1    \n",
    "        \n",
    "    else:\n",
    "        return a/b\n",
    "\n",
    "for i in range(len(HN)):\n",
    "    div_array.append(div(HN[i],bb[i]))\n",
    "    "
   ]
  },
  {
   "cell_type": "code",
   "execution_count": 269,
   "metadata": {},
   "outputs": [],
   "source": [
    "#div_array"
   ]
  },
  {
   "cell_type": "code",
   "execution_count": 270,
   "metadata": {},
   "outputs": [],
   "source": [
    "def fi(n):\n",
    "    return n <=1\n",
    "\n",
    "div_array_fi = filter(fi,div_array)\n",
    "final = list(div_array_fi)\n",
    "\n",
    "#濾掉大於1的值"
   ]
  },
  {
   "cell_type": "code",
   "execution_count": 271,
   "metadata": {},
   "outputs": [],
   "source": [
    "#final"
   ]
  },
  {
   "cell_type": "code",
   "execution_count": 272,
   "metadata": {
    "scrolled": true
   },
   "outputs": [
    {
     "data": {
      "image/png": "[encoded data removed]",
      "text/plain": [
       "<Figure size 432x288 with 1 Axes>"
      ]
     },
     "metadata": {},
     "output_type": "display_data"
    }
   ],
   "source": [
    "plt.hist(final)\n",
    "plt.show()\n",
    "#繪圖"
   ]
  }
 ],
 "metadata": {
  "kernelspec": {
   "display_name": "Python 3",
   "language": "python",
   "name": "python3"
  },
  "language_info": {
   "codemirror_mode": {
    "name": "ipython",
    "version": 3
   },
   "file_extension": ".py",
   "mimetype": "text/x-python",
   "name": "python",
   "nbconvert_exporter": "python",
   "pygments_lexer": "ipython3",
   "version": "3.7.3"
  }
 },
 "nbformat": 4,
 "nbformat_minor": 2
}
